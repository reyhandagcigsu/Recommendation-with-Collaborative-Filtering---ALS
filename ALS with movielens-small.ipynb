{
 "cells": [
  {
   "cell_type": "code",
   "execution_count": 206,
   "id": "9d1fcaba",
   "metadata": {},
   "outputs": [],
   "source": [
    "import numpy as np\n",
    "import findspark\n",
    "findspark.init('/home/reyhandagci/spark-3.2.1-bin-hadoop3.2')\n",
    "import pyspark\n",
    "import sqlite3\n",
    "from pyspark.sql import SparkSession"
   ]
  },
  {
   "cell_type": "code",
   "execution_count": 207,
   "id": "82cb4ec7",
   "metadata": {},
   "outputs": [],
   "source": [
    "spark = SparkSession.builder.appName('case').getOrCreate()"
   ]
  },
  {
   "cell_type": "code",
   "execution_count": 208,
   "id": "da9a472e",
   "metadata": {},
   "outputs": [],
   "source": [
    "#reading csv files which are extracted from db file.\n",
    "links = spark.read.csv('links.csv',inferSchema=True,header=True)\n",
    "ratings = spark.read.csv('ratings.csv',inferSchema=True,header=True)\n",
    "movies = spark.read.csv('movies.csv',inferSchema=True,header=True)\n",
    "tags = spark.read.csv('tags.csv',inferSchema=True,header=True)"
   ]
  },
  {
   "cell_type": "code",
   "execution_count": 209,
   "id": "bd9a1bf5",
   "metadata": {},
   "outputs": [
    {
     "name": "stdout",
     "output_type": "stream",
     "text": [
      "+-------+------+------+\n",
      "|movieId|imdbId|tmdbId|\n",
      "+-------+------+------+\n",
      "|      1|114709|   862|\n",
      "|      2|113497|  8844|\n",
      "|      3|113228| 15602|\n",
      "|      4|114885| 31357|\n",
      "|      5|113041| 11862|\n",
      "|      6|113277|   949|\n",
      "|      7|114319| 11860|\n",
      "|      8|112302| 45325|\n",
      "|      9|114576|  9091|\n",
      "|     10|113189|   710|\n",
      "|     11|112346|  9087|\n",
      "|     12|112896| 12110|\n",
      "|     13|112453| 21032|\n",
      "|     14|113987| 10858|\n",
      "|     15|112760|  1408|\n",
      "|     16|112641|   524|\n",
      "|     17|114388|  4584|\n",
      "|     18|113101|     5|\n",
      "|     19|112281|  9273|\n",
      "|     20|113845| 11517|\n",
      "+-------+------+------+\n",
      "only showing top 20 rows\n",
      "\n"
     ]
    }
   ],
   "source": [
    "links.show()"
   ]
  },
  {
   "cell_type": "code",
   "execution_count": 210,
   "id": "05e5dd4e",
   "metadata": {},
   "outputs": [
    {
     "name": "stdout",
     "output_type": "stream",
     "text": [
      "root\n",
      " |-- movieId: integer (nullable = true)\n",
      " |-- imdbId: integer (nullable = true)\n",
      " |-- tmdbId: integer (nullable = true)\n",
      "\n"
     ]
    }
   ],
   "source": [
    "#observing the type of column of the links file.\n",
    "links.printSchema()"
   ]
  },
  {
   "cell_type": "code",
   "execution_count": 211,
   "id": "311a2371",
   "metadata": {},
   "outputs": [
    {
     "name": "stdout",
     "output_type": "stream",
     "text": [
      "+------+-------+------+---------+\n",
      "|userId|movieId|rating|timestamp|\n",
      "+------+-------+------+---------+\n",
      "|     1|      6|   2.0|980730861|\n",
      "|     1|     22|   3.0|980731380|\n",
      "|     1|     32|   2.0|980731926|\n",
      "|     1|     50|   5.0|980732037|\n",
      "|     1|    110|   4.0|980730408|\n",
      "|     1|    164|   3.0|980731766|\n",
      "|     1|    198|   3.0|980731282|\n",
      "|     1|    260|   5.0|980730769|\n",
      "|     1|    296|   4.0|980731208|\n",
      "|     1|    303|   3.0|980732235|\n",
      "|     1|    318|   3.0|980731417|\n",
      "|     1|    350|   3.0|980731745|\n",
      "|     1|    366|   2.0|980731621|\n",
      "|     1|    367|   4.0|980731380|\n",
      "|     1|    431|   2.0|980731312|\n",
      "|     1|    432|   2.0|980732235|\n",
      "|     1|    451|   1.0|980731789|\n",
      "|     1|    457|   4.0|980730816|\n",
      "|     1|    474|   3.0|980730816|\n",
      "|     1|    480|   4.0|980731903|\n",
      "+------+-------+------+---------+\n",
      "only showing top 20 rows\n",
      "\n"
     ]
    }
   ],
   "source": [
    "ratings.show()"
   ]
  },
  {
   "cell_type": "code",
   "execution_count": 212,
   "id": "8287b344",
   "metadata": {},
   "outputs": [
    {
     "name": "stdout",
     "output_type": "stream",
     "text": [
      "root\n",
      " |-- userId: integer (nullable = true)\n",
      " |-- movieId: integer (nullable = true)\n",
      " |-- rating: double (nullable = true)\n",
      " |-- timestamp: integer (nullable = true)\n",
      "\n"
     ]
    }
   ],
   "source": [
    "#observing the type of column of the ratings file.\n",
    "ratings.printSchema()"
   ]
  },
  {
   "cell_type": "code",
   "execution_count": 213,
   "id": "1dca54fe",
   "metadata": {},
   "outputs": [
    {
     "name": "stdout",
     "output_type": "stream",
     "text": [
      "+-------+--------------------+----+--------------------+\n",
      "|movieId|               title|year|              genres|\n",
      "+-------+--------------------+----+--------------------+\n",
      "|      1|           Toy Story|1995|Adventure|Animati...|\n",
      "|      2|             Jumanji|1995|Adventure|Childre...|\n",
      "|      3|    Grumpier Old Men|1995|      Comedy|Romance|\n",
      "|      4|   Waiting to Exhale|1995|Comedy|Drama|Romance|\n",
      "|      5|Father of the Bri...|1995|              Comedy|\n",
      "|      6|                Heat|1995|Action|Crime|Thri...|\n",
      "|      7|             Sabrina|1995|      Comedy|Romance|\n",
      "|      8|        Tom and Huck|1995|  Adventure|Children|\n",
      "|      9|        Sudden Death|1995|              Action|\n",
      "|     10|           GoldenEye|1995|Action|Adventure|...|\n",
      "|     11|American Presiden...|1995|Comedy|Drama|Romance|\n",
      "|     12|Dracula: Dead and...|1995|       Comedy|Horror|\n",
      "|     13|               Balto|1995|Adventure|Animati...|\n",
      "|     14|               Nixon|1995|               Drama|\n",
      "|     15|    Cutthroat Island|1995|Action|Adventure|...|\n",
      "|     16|              Casino|1995|         Crime|Drama|\n",
      "|     17|Sense and Sensibi...|1995|       Drama|Romance|\n",
      "|     18|          Four Rooms|1995|              Comedy|\n",
      "|     19|Ace Ventura: When...|1995|              Comedy|\n",
      "|     20|         Money Train|1995|Action|Comedy|Cri...|\n",
      "+-------+--------------------+----+--------------------+\n",
      "only showing top 20 rows\n",
      "\n"
     ]
    }
   ],
   "source": [
    "movies.show()"
   ]
  },
  {
   "cell_type": "code",
   "execution_count": 214,
   "id": "07a21dbe",
   "metadata": {},
   "outputs": [
    {
     "name": "stdout",
     "output_type": "stream",
     "text": [
      "root\n",
      " |-- movieId: integer (nullable = true)\n",
      " |-- title: string (nullable = true)\n",
      " |-- year: integer (nullable = true)\n",
      " |-- genres: string (nullable = true)\n",
      "\n"
     ]
    }
   ],
   "source": [
    "#observing the type of column of the movies file.\n",
    "movies.printSchema()"
   ]
  },
  {
   "cell_type": "code",
   "execution_count": 215,
   "id": "7fd2e45f",
   "metadata": {},
   "outputs": [
    {
     "name": "stdout",
     "output_type": "stream",
     "text": [
      "+------+-------+----------------+----------+\n",
      "|userId|movieId|             tag| timestamp|\n",
      "+------+-------+----------------+----------+\n",
      "|    40|      1|       animation|1306926135|\n",
      "|    40|      1|         fantasy|1306926130|\n",
      "|    40|      1|           Pixar|1306926133|\n",
      "|    40|     47|            dark|1306930201|\n",
      "|    40|     47|      disturbing|1306930291|\n",
      "|    40|     47|        thriller|1306930308|\n",
      "|    40|    101| off-beat comedy|1307009664|\n",
      "|    40|    101|    Wes Anderson|1307009667|\n",
      "|    40|    208|post-apocalyptic|1306930611|\n",
      "|    40|    208|          sci-fi|1306930614|\n",
      "|    40|    208|        survival|1306930626|\n",
      "|    40|    223| Dialogue Driven|1306930837|\n",
      "|    40|    223|      view askew|1306930797|\n",
      "|    40|    253| based on a book|1306877984|\n",
      "|    40|    253|         fantasy|1306877977|\n",
      "|    40|    253|        vampires|1306877982|\n",
      "|    40|    353|      comic book|1307889681|\n",
      "|    40|    353|         Fantasy|1307889678|\n",
      "|    40|    353|         romance|1307889686|\n",
      "|    40|    364|       animation|1306930320|\n",
      "+------+-------+----------------+----------+\n",
      "only showing top 20 rows\n",
      "\n"
     ]
    }
   ],
   "source": [
    "tags .show()"
   ]
  },
  {
   "cell_type": "code",
   "execution_count": 216,
   "id": "e0654cfa",
   "metadata": {},
   "outputs": [
    {
     "name": "stdout",
     "output_type": "stream",
     "text": [
      "root\n",
      " |-- userId: integer (nullable = true)\n",
      " |-- movieId: integer (nullable = true)\n",
      " |-- tag: string (nullable = true)\n",
      " |-- timestamp: integer (nullable = true)\n",
      "\n"
     ]
    }
   ],
   "source": [
    "#observing the type of column of the tags file.\n",
    "tags.printSchema()"
   ]
  },
  {
   "cell_type": "code",
   "execution_count": 270,
   "id": "e1904902",
   "metadata": {},
   "outputs": [
    {
     "name": "stdout",
     "output_type": "stream",
     "text": [
      "+------+-------+------+---------+\n",
      "|userId|movieId|rating|timestamp|\n",
      "+------+-------+------+---------+\n",
      "|     1|      6|   2.0|     null|\n",
      "|     1|     22|   3.0|     null|\n",
      "|     1|     32|   2.0|     null|\n",
      "|     1|     50|   5.0|     null|\n",
      "|     1|    110|   4.0|     null|\n",
      "|     1|    164|   3.0|     null|\n",
      "|     1|    198|   3.0|     null|\n",
      "|     1|    260|   5.0|     null|\n",
      "|     1|    296|   4.0|     null|\n",
      "|     1|    303|   3.0|     null|\n",
      "|     1|    318|   3.0|     null|\n",
      "|     1|    350|   3.0|     null|\n",
      "|     1|    366|   2.0|     null|\n",
      "|     1|    367|   4.0|     null|\n",
      "|     1|    431|   2.0|     null|\n",
      "|     1|    432|   2.0|     null|\n",
      "|     1|    451|   1.0|     null|\n",
      "|     1|    457|   4.0|     null|\n",
      "|     1|    474|   3.0|     null|\n",
      "|     1|    480|   4.0|     null|\n",
      "+------+-------+------+---------+\n",
      "only showing top 20 rows\n",
      "\n"
     ]
    }
   ],
   "source": [
    "#checking if the dataframe contains null values.\n",
    "ratings.filter(ratings.timestamp.isNull()).show()\n",
    "#there are null values in the timestamp  column but ı will not operate in this \n",
    "#column so I didn't feel the need to remove the null values."
   ]
  },
  {
   "cell_type": "code",
   "execution_count": 266,
   "id": "2c76b1f3",
   "metadata": {},
   "outputs": [
    {
     "name": "stdout",
     "output_type": "stream",
     "text": [
      "+-------+--------------------+----+------------------+\n",
      "|movieId|               title|year|            genres|\n",
      "+-------+--------------------+----+------------------+\n",
      "| 108548|Big Bang Theory, ...|null|            Comedy|\n",
      "| 129651|The Third Reich: ...|null|(no genres listed)|\n",
      "+-------+--------------------+----+------------------+\n",
      "\n"
     ]
    }
   ],
   "source": [
    "#checking if the dataframe contains null values.\n",
    "movies.filter(movies.year.isNull()).show()\n",
    "#there are null values in the year  column but ı will not operate in this \n",
    "#column so I didn't feel the need to remove the null values."
   ]
  },
  {
   "cell_type": "code",
   "execution_count": 217,
   "id": "21549e3a",
   "metadata": {},
   "outputs": [],
   "source": [
    "#correcting data types of dataframes. \n",
    "from pyspark.sql.types import (StructType,StringType,IntegerType,\n",
    "                               StructField,TimestampType,DoubleType,DateType)\n",
    "\n",
    "data_links = [StructField('movieId',IntegerType(),True),\n",
    "              StructField('imdbId',IntegerType(),True),\n",
    "              StructField('tmdbId',IntegerType(),True)]\n",
    "\n",
    "data_ratings = [StructField('userId',IntegerType(),True),\n",
    "               StructField('movieId',IntegerType(),True),\n",
    "               StructField('rating',DoubleType(),True),\n",
    "               StructField('timestamp',TimestampType(),True)]\n",
    "\n",
    "data_movies = [StructField('movieId',IntegerType(),True),\n",
    "               StructField('title',StringType(),True),\n",
    "               StructField('year',DateType(),True),\n",
    "               StructField('genres',StringType(),True)]\n",
    "\n",
    "data_tags = [StructField('userId',IntegerType(),True),\n",
    "               StructField('movieId',IntegerType(),True),\n",
    "               StructField('tag',StringType(),True),\n",
    "               StructField('timestamp',TimestampType(),True)]"
   ]
  },
  {
   "cell_type": "code",
   "execution_count": 218,
   "id": "f8d8216f",
   "metadata": {},
   "outputs": [],
   "source": [
    "final_links = StructType(fields=data_links)\n",
    "final_rating = StructType(fields=data_ratings)\n",
    "final_movies = StructType(fields=data_movies)\n",
    "final_tags = StructType(fields=data_tags)"
   ]
  },
  {
   "cell_type": "code",
   "execution_count": 219,
   "id": "1a8d7a41",
   "metadata": {},
   "outputs": [],
   "source": [
    "#re-reading files with corrected data types\n",
    "links = spark.read.csv('links.csv',schema=final_links,inferSchema=True,header=True)\n",
    "ratings = spark.read.csv('ratings.csv',schema=final_rating,inferSchema=True,header=True)\n",
    "movies = spark.read.csv('movies.csv',schema=final_movies,inferSchema=True,header=True)\n",
    "tags = spark.read.csv('tags.csv',schema=final_tags,inferSchema=True,header=True)"
   ]
  },
  {
   "cell_type": "code",
   "execution_count": 220,
   "id": "9dcdbc18",
   "metadata": {},
   "outputs": [
    {
     "name": "stdout",
     "output_type": "stream",
     "text": [
      "root\n",
      " |-- movieId: integer (nullable = true)\n",
      " |-- title: string (nullable = true)\n",
      " |-- year: date (nullable = true)\n",
      " |-- genres: string (nullable = true)\n",
      "\n"
     ]
    }
   ],
   "source": [
    "movies.printSchema()"
   ]
  },
  {
   "cell_type": "code",
   "execution_count": 221,
   "id": "dcf71fbf",
   "metadata": {},
   "outputs": [
    {
     "name": "stdout",
     "output_type": "stream",
     "text": [
      "root\n",
      " |-- userId: integer (nullable = true)\n",
      " |-- movieId: integer (nullable = true)\n",
      " |-- rating: double (nullable = true)\n",
      " |-- timestamp: timestamp (nullable = true)\n",
      "\n"
     ]
    }
   ],
   "source": [
    "ratings.printSchema()"
   ]
  },
  {
   "cell_type": "code",
   "execution_count": 222,
   "id": "9eb08baa",
   "metadata": {},
   "outputs": [],
   "source": [
    "#creating views to join 2 table to create demanded dataframe (question 1)\n",
    "links.createOrReplaceTempView('link')\n",
    "ratings.createOrReplaceTempView('ratingg')\n",
    "movies.createOrReplaceTempView('movie')\n",
    "tags.createOrReplaceTempView('tag')"
   ]
  },
  {
   "cell_type": "code",
   "execution_count": 223,
   "id": "07b94b1f",
   "metadata": {},
   "outputs": [],
   "source": [
    "#joining ratings and movies table.\n",
    "join_df = spark.sql(\"\"\"select ratingg.userId,movie.movieId,movie.genres,ratingg.rating\n",
    "from ratingg inner join movie on ratingg.movieId = movie.movieId\"\"\")"
   ]
  },
  {
   "cell_type": "code",
   "execution_count": 224,
   "id": "07da862b",
   "metadata": {},
   "outputs": [],
   "source": [
    "from pyspark.sql.functions import countDistinct,avg,stddev "
   ]
  },
  {
   "cell_type": "code",
   "execution_count": 225,
   "id": "26ad28a9",
   "metadata": {},
   "outputs": [],
   "source": [
    "from pyspark.sql.functions import *"
   ]
  },
  {
   "cell_type": "code",
   "execution_count": 227,
   "id": "9add672d",
   "metadata": {},
   "outputs": [
    {
     "name": "stdout",
     "output_type": "stream",
     "text": [
      "+------+-------+\n",
      "|userId|movieId|\n",
      "+------+-------+\n",
      "|     1|      6|\n",
      "|     1|     22|\n",
      "|     1|     32|\n",
      "|     1|     50|\n",
      "|     1|    110|\n",
      "|     1|    164|\n",
      "|     1|    198|\n",
      "|     1|    260|\n",
      "|     1|    296|\n",
      "|     1|    303|\n",
      "|     1|    318|\n",
      "|     1|    350|\n",
      "|     1|    366|\n",
      "|     1|    367|\n",
      "|     1|    431|\n",
      "|     1|    432|\n",
      "|     1|    451|\n",
      "|     1|    457|\n",
      "|     1|    474|\n",
      "|     1|    480|\n",
      "+------+-------+\n",
      "only showing top 20 rows\n",
      "\n"
     ]
    }
   ],
   "source": [
    "join_df.select(['userId','movieId']).show()"
   ]
  },
  {
   "cell_type": "code",
   "execution_count": 228,
   "id": "ce5e0ef2",
   "metadata": {},
   "outputs": [
    {
     "name": "stdout",
     "output_type": "stream",
     "text": [
      "+--------------+\n",
      "|count(movieId)|\n",
      "+--------------+\n",
      "|          8570|\n",
      "+--------------+\n",
      "\n"
     ]
    }
   ],
   "source": [
    "movies.select(count('movieId')).show()"
   ]
  },
  {
   "cell_type": "code",
   "execution_count": 229,
   "id": "f4617fe1",
   "metadata": {},
   "outputs": [
    {
     "name": "stdout",
     "output_type": "stream",
     "text": [
      "+--------------+\n",
      "|count(movieId)|\n",
      "+--------------+\n",
      "|        100023|\n",
      "+--------------+\n",
      "\n"
     ]
    }
   ],
   "source": [
    "ratings.select(count('movieId')).show()"
   ]
  },
  {
   "cell_type": "code",
   "execution_count": 230,
   "id": "58148114",
   "metadata": {},
   "outputs": [
    {
     "name": "stdout",
     "output_type": "stream",
     "text": [
      "+-----------------------+\n",
      "|count(DISTINCT movieId)|\n",
      "+-----------------------+\n",
      "|                   8552|\n",
      "+-----------------------+\n",
      "\n"
     ]
    }
   ],
   "source": [
    "join_df.select(countDistinct('movieId')).show()"
   ]
  },
  {
   "cell_type": "code",
   "execution_count": 231,
   "id": "e17cb038",
   "metadata": {},
   "outputs": [
    {
     "name": "stdout",
     "output_type": "stream",
     "text": [
      "+--------------+\n",
      "|count(movieId)|\n",
      "+--------------+\n",
      "|        100023|\n",
      "+--------------+\n",
      "\n"
     ]
    }
   ],
   "source": [
    "join_df.select(count('movieId')).show()"
   ]
  },
  {
   "cell_type": "code",
   "execution_count": 232,
   "id": "2cac5eaa",
   "metadata": {},
   "outputs": [
    {
     "name": "stdout",
     "output_type": "stream",
     "text": [
      "+------+-------+--------------------+------+\n",
      "|userId|movieId|              genres|rating|\n",
      "+------+-------+--------------------+------+\n",
      "|     1|      6|Action|Crime|Thri...|   2.0|\n",
      "|     1|     32|Mystery|Sci-Fi|Th...|   2.0|\n",
      "|     1|    366|Drama|Horror|Myst...|   2.0|\n",
      "|     1|    431|         Crime|Drama|   2.0|\n",
      "|     1|    432|Adventure|Comedy|...|   2.0|\n",
      "|     1|    590|Adventure|Drama|W...|   2.0|\n",
      "|     1|    924|Adventure|Drama|S...|   2.0|\n",
      "|     1|    996|Action|Crime|Dram...|   2.0|\n",
      "|     1|   1199|      Fantasy|Sci-Fi|   2.0|\n",
      "|     1|   1394|              Comedy|   2.0|\n",
      "|     1|   1645|Drama|Mystery|Thr...|   2.0|\n",
      "|     1|   1732|        Comedy|Crime|   2.0|\n",
      "|     1|   1748|Adventure|Film-No...|   2.0|\n",
      "|     1|   1754|Crime|Drama|Fanta...|   2.0|\n",
      "|     1|   2130| Crime|Drama|Romance|   2.0|\n",
      "|     1|   2248|Comedy|Drama|Romance|   2.0|\n",
      "|     1|   2542|Comedy|Crime|Thri...|   2.0|\n",
      "|     1|   2692|        Action|Crime|   2.0|\n",
      "|     1|   2713|     Horror|Thriller|   2.0|\n",
      "|     1|   2764|Crime|Drama|Roman...|   2.0|\n",
      "+------+-------+--------------------+------+\n",
      "only showing top 20 rows\n",
      "\n"
     ]
    }
   ],
   "source": [
    "#controlling the dataframe.\n",
    "join_df.filter(join_df['rating']==2.0).show()"
   ]
  },
  {
   "cell_type": "code",
   "execution_count": 233,
   "id": "eb52a17d",
   "metadata": {},
   "outputs": [
    {
     "name": "stdout",
     "output_type": "stream",
     "text": [
      "+----------------------+\n",
      "|count(DISTINCT userId)|\n",
      "+----------------------+\n",
      "|                   706|\n",
      "+----------------------+\n",
      "\n"
     ]
    }
   ],
   "source": [
    "ratings.select(countDistinct('userId')).show()"
   ]
  },
  {
   "cell_type": "code",
   "execution_count": 234,
   "id": "31ccdd5c",
   "metadata": {},
   "outputs": [
    {
     "name": "stdout",
     "output_type": "stream",
     "text": [
      "+------+-------+------+------+\n",
      "|userId|movieId|genres|rating|\n",
      "+------+-------+------+------+\n",
      "+------+-------+------+------+\n",
      "\n"
     ]
    }
   ],
   "source": [
    "#checking if the join is done correctly\n",
    "join_df.filter(join_df.genres.isNull()).show()"
   ]
  },
  {
   "cell_type": "code",
   "execution_count": 317,
   "id": "e6474362",
   "metadata": {},
   "outputs": [
    {
     "name": "stdout",
     "output_type": "stream",
     "text": [
      "+-------+-----------+\n",
      "|movieId|sum(rating)|\n",
      "+-------+-----------+\n",
      "|    318|     1457.0|\n",
      "|    593|     1427.5|\n",
      "|    296|     1353.0|\n",
      "|    260|     1284.0|\n",
      "|    356|     1243.0|\n",
      "+-------+-----------+\n",
      "only showing top 5 rows\n",
      "\n"
     ]
    }
   ],
   "source": [
    "#counting ratings for each movie and listing top 5 movies with the highest value\n",
    "grouped_data = ratings.groupBy(\"movieId\").sum('rating')\n",
    "top = grouped_data.orderBy(grouped_data['sum(rating)'].desc())\n",
    "top.show(5)"
   ]
  },
  {
   "cell_type": "code",
   "execution_count": 318,
   "id": "b822794b",
   "metadata": {},
   "outputs": [
    {
     "name": "stdout",
     "output_type": "stream",
     "text": [
      "+-------+-----------+\n",
      "|movieId|sum(rating)|\n",
      "+-------+-----------+\n",
      "|    318|     1457.0|\n",
      "+-------+-----------+\n",
      "\n"
     ]
    }
   ],
   "source": [
    "#controlling created top data.\n",
    "grouped_data.filter(grouped_data['movieId']==318).show() \n",
    "# 1580   640. 5   1645  193 "
   ]
  },
  {
   "cell_type": "code",
   "execution_count": 323,
   "id": "623409bd",
   "metadata": {},
   "outputs": [
    {
     "name": "stdout",
     "output_type": "stream",
     "text": [
      "+--------------+-----------+\n",
      "|        genres|sum(rating)|\n",
      "+--------------+-----------+\n",
      "|         Drama|    25650.0|\n",
      "|        Comedy|    20529.5|\n",
      "|Comedy|Romance|    12930.5|\n",
      "| Drama|Romance|    11295.5|\n",
      "|  Comedy|Drama|    10709.5|\n",
      "+--------------+-----------+\n",
      "only showing top 5 rows\n",
      "\n"
     ]
    }
   ],
   "source": [
    "#finding and listing top 5 most rated genres from a created dataframe which is called join_df.\n",
    "grouped_data1 = join_df.groupBy(\"genres\").sum('rating')\n",
    "top_genres = grouped_data1.orderBy(grouped_data1['sum(rating)'].desc())\n",
    "top_genres.show(5)"
   ]
  },
  {
   "cell_type": "code",
   "execution_count": 235,
   "id": "064c0b05",
   "metadata": {},
   "outputs": [],
   "source": [
    "#RECOMMENDATION MODELLING"
   ]
  },
  {
   "cell_type": "code",
   "execution_count": 236,
   "id": "f08f762d",
   "metadata": {},
   "outputs": [],
   "source": [
    "from pyspark.ml.recommendation import ALS"
   ]
  },
  {
   "cell_type": "code",
   "execution_count": 324,
   "id": "e679852d",
   "metadata": {},
   "outputs": [],
   "source": [
    "#INITIATING OUR ALS MODEL AND SPLIT THE DATASET INTO TWO PARTS FOR TRAINING AND TESTING\n",
    "als = ALS(maxIter=10, regParam=0.5, userCol=\"userId\",itemCol =\"movieId\",ratingCol =\"rating\",coldStartStrategy =\"drop\")\n",
    "train,test = join_df.randomSplit([0.8,0.2])"
   ]
  },
  {
   "cell_type": "code",
   "execution_count": 325,
   "id": "bf20bdac",
   "metadata": {},
   "outputs": [],
   "source": [
    "#TRAINING MODEL AND GENERATING PREDICTIONS"
   ]
  },
  {
   "cell_type": "code",
   "execution_count": 326,
   "id": "1c16c7ff",
   "metadata": {},
   "outputs": [
    {
     "name": "stderr",
     "output_type": "stream",
     "text": [
      "                                                                                \r"
     ]
    }
   ],
   "source": [
    "#training the model\n",
    "alsModel = als.fit(train)"
   ]
  },
  {
   "cell_type": "code",
   "execution_count": 327,
   "id": "2a94ceff",
   "metadata": {},
   "outputs": [
    {
     "name": "stdout",
     "output_type": "stream",
     "text": [
      "+------+-------+--------------------+------+----------+\n",
      "|userId|movieId|              genres|rating|prediction|\n",
      "+------+-------+--------------------+------+----------+\n",
      "|     1|   1645|Drama|Mystery|Thr...|   2.0| 2.9811044|\n",
      "|     7|    471|              Comedy|   4.0| 3.5710497|\n",
      "|     8|   1088|Drama|Musical|Rom...|   2.0| 3.1344001|\n",
      "|    10|    471|              Comedy|   3.5| 3.1373277|\n",
      "|    13|   2142|Adventure|Animati...|   3.5| 2.7220407|\n",
      "|    31|   2142|Adventure|Animati...|   0.5| 2.2773557|\n",
      "|    38|   1580|Action|Comedy|Sci-Fi|   4.5|  3.554004|\n",
      "|    40|   1580|Action|Comedy|Sci-Fi|   3.5| 3.1050837|\n",
      "|    44|   1580|Action|Comedy|Sci-Fi|   3.5|  3.329278|\n",
      "|    48|   1580|Action|Comedy|Sci-Fi|   5.0| 3.4759336|\n",
      "+------+-------+--------------------+------+----------+\n",
      "only showing top 10 rows\n",
      "\n"
     ]
    }
   ],
   "source": [
    "#generating predictions\n",
    "prediction = alsModel.transform(test)\n",
    "prediction.show(10)"
   ]
  },
  {
   "cell_type": "code",
   "execution_count": 328,
   "id": "eac1df07",
   "metadata": {},
   "outputs": [],
   "source": [
    "#evaluating the model ( how good is it?)\n",
    "from pyspark.ml.evaluation import RegressionEvaluator"
   ]
  },
  {
   "cell_type": "code",
   "execution_count": 329,
   "id": "111b5215",
   "metadata": {},
   "outputs": [],
   "source": [
    "evaluator = RegressionEvaluator(metricName = \"mse\",labelCol=\"rating\",predictionCol=\"prediction\")"
   ]
  },
  {
   "cell_type": "code",
   "execution_count": 330,
   "id": "c580c7cf",
   "metadata": {},
   "outputs": [],
   "source": [
    "evaluator1 = RegressionEvaluator(metricName = \"rmse\",labelCol=\"rating\",predictionCol=\"prediction\")"
   ]
  },
  {
   "cell_type": "code",
   "execution_count": 331,
   "id": "304d37a1",
   "metadata": {},
   "outputs": [],
   "source": [
    "evaluator2 = RegressionEvaluator(metricName = \"mae\",labelCol=\"rating\",predictionCol=\"prediction\")"
   ]
  },
  {
   "cell_type": "code",
   "execution_count": 332,
   "id": "d7453f35",
   "metadata": {},
   "outputs": [],
   "source": [
    "mse =evaluator.evaluate(prediction)\n",
    "rmse =evaluator1.evaluate(prediction)\n",
    "mae =evaluator2.evaluate(prediction)"
   ]
  },
  {
   "cell_type": "code",
   "execution_count": 333,
   "id": "d12065e1",
   "metadata": {},
   "outputs": [
    {
     "data": {
      "text/plain": [
       "1.1098223653332344"
      ]
     },
     "execution_count": 333,
     "metadata": {},
     "output_type": "execute_result"
    }
   ],
   "source": [
    "mse"
   ]
  },
  {
   "cell_type": "code",
   "execution_count": 334,
   "id": "c7cd201f",
   "metadata": {},
   "outputs": [
    {
     "data": {
      "text/plain": [
       "1.0534810702301367"
      ]
     },
     "execution_count": 334,
     "metadata": {},
     "output_type": "execute_result"
    }
   ],
   "source": [
    "rmse"
   ]
  },
  {
   "cell_type": "code",
   "execution_count": 335,
   "id": "41c3950e",
   "metadata": {},
   "outputs": [
    {
     "data": {
      "text/plain": [
       "0.8633984273298418"
      ]
     },
     "execution_count": 335,
     "metadata": {},
     "output_type": "execute_result"
    }
   ],
   "source": [
    "mae"
   ]
  },
  {
   "cell_type": "code",
   "execution_count": 336,
   "id": "ddbe27d1",
   "metadata": {},
   "outputs": [],
   "source": [
    "#recommending top three movies for every user\n",
    "recommended_movie_df = alsModel.recommendForAllUsers(3)"
   ]
  },
  {
   "cell_type": "code",
   "execution_count": 337,
   "id": "5a253b29",
   "metadata": {},
   "outputs": [
    {
     "name": "stderr",
     "output_type": "stream",
     "text": [
      "[Stage 1047:===================================================> (98 + 2) / 100]\r"
     ]
    },
    {
     "name": "stdout",
     "output_type": "stream",
     "text": [
      "+------+----------------------------------------------------------+\n",
      "|userId|recommendations                                           |\n",
      "+------+----------------------------------------------------------+\n",
      "|1     |[{2651, 4.736836}, {2650, 4.736836}, {70992, 4.694742}]   |\n",
      "|2     |[{2650, 5.6595435}, {2651, 5.6595435}, {70992, 5.6097937}]|\n",
      "|3     |[{2650, 5.846903}, {2651, 5.846903}, {70992, 5.794064}]   |\n",
      "|4     |[{2650, 4.775867}, {2651, 4.775867}, {70992, 4.7347474}]  |\n",
      "|5     |[{2650, 4.5389338}, {2651, 4.5389338}, {70992, 4.4853444}]|\n",
      "|6     |[{2650, 4.7820315}, {2651, 4.7820315}, {70992, 4.7398176}]|\n",
      "|7     |[{2650, 5.729844}, {2651, 5.729844}, {70992, 5.680857}]   |\n",
      "|8     |[{2650, 5.488645}, {2651, 5.488645}, {70992, 5.4397545}]  |\n",
      "|9     |[{2650, 5.2365346}, {2651, 5.2365346}, {70992, 5.189263}] |\n",
      "|10    |[{2650, 5.033705}, {2651, 5.033705}, {70992, 4.986099}]   |\n",
      "+------+----------------------------------------------------------+\n",
      "only showing top 10 rows\n",
      "\n"
     ]
    },
    {
     "name": "stderr",
     "output_type": "stream",
     "text": [
      "\r",
      "                                                                                \r"
     ]
    }
   ],
   "source": [
    "recommended_movie_df.show(10,False)"
   ]
  },
  {
   "cell_type": "code",
   "execution_count": null,
   "id": "76711f20",
   "metadata": {},
   "outputs": [],
   "source": []
  },
  {
   "cell_type": "code",
   "execution_count": null,
   "id": "06a0af2d",
   "metadata": {},
   "outputs": [],
   "source": []
  }
 ],
 "metadata": {
  "kernelspec": {
   "display_name": "Python 3 (ipykernel)",
   "language": "python",
   "name": "python3"
  },
  "language_info": {
   "codemirror_mode": {
    "name": "ipython",
    "version": 3
   },
   "file_extension": ".py",
   "mimetype": "text/x-python",
   "name": "python",
   "nbconvert_exporter": "python",
   "pygments_lexer": "ipython3",
   "version": "3.8.10"
  }
 },
 "nbformat": 4,
 "nbformat_minor": 5
}
